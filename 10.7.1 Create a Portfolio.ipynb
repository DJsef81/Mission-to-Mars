{
 "cells": [
  {
   "cell_type": "raw",
   "metadata": {},
   "source": [
    "She wants her portfolio to serve as an introduction to her work, feature her favorite project, and include smaller images to capture other projects.\n",
    "\n",
    "In addition to showcasing her work, Robin's portfolio should have a clean and professional presentation. If the portfolio is cluttered or otherwise unappealing, even her most stellar projects won't receive the recognition she'd like. Additionally, a portfolio will be responsive—it will adjust to different screen sizes (also known as viewports) as needed.\n",
    "\n",
    "Create a Portfolio\n",
    "There are two options for creating a portfolio:\n",
    "\n",
    "Customize a template to show off your work. Include images, links to GitHub repos, and contact information (LinkedIn profile, email address, etc.).\n",
    "Use a website service to create your portfolio.\n"
   ]
  },
  {
   "cell_type": "raw",
   "metadata": {},
   "source": [
    "we downloaded 3 different templates. I choose template 1. \n",
    "\n",
    "Customize the Portfolio\n",
    "This portfolio template already links to Bootstrap 4.3.1, but it also has a custom stylesheet included. To change the background of the body, for example, navigate to that style sheet and add this line:\n",
    "\n",
    "body {\n",
    "   margin: 5px;\n",
    "   padding-bottom: 70px;\n",
    "   background-color: darkgray;\n",
    "}\n",
    "\n",
    "Save the stylesheet, then refresh your browser. Notice that the background is dark gray instead of white? Each element in your HTML can be adjusted this way.\n",
    "\n",
    "Here are some tips to help with customizing:\n",
    "\n",
    "Your featured images should be .png files generated from the project you're featuring, such as a graph made in Matplotlib, a visual you've created that represents the project, or an interesting screenshot of your work.\n",
    "\n",
    "Sometimes the Bootstrap CSS customization needs to be overwritten. To ensure your stylesheet's code takes precedence, add !important; to the line of code you want changed, like in the code below.\n",
    "\n",
    "body {\n",
    "margin: 5px;\n",
    "padding-bottom: 70px;\n",
    "background-color: darkgray !important;\n",
    "}"
   ]
  }
 ],
 "metadata": {
  "kernelspec": {
   "display_name": "PythonData",
   "language": "python",
   "name": "pythondata"
  },
  "language_info": {
   "codemirror_mode": {
    "name": "ipython",
    "version": 3
   },
   "file_extension": ".py",
   "mimetype": "text/x-python",
   "name": "python",
   "nbconvert_exporter": "python",
   "pygments_lexer": "ipython3",
   "version": "3.7.7"
  }
 },
 "nbformat": 4,
 "nbformat_minor": 4
}
