{
 "cells": [
  {
   "cell_type": "code",
   "execution_count": 2,
   "metadata": {},
   "outputs": [],
   "source": [
    "# practice identifying specific data using Chrome Developer Tools (also known as DevTools). \n",
    "\n",
    "# This tool allows developers to look at the structure of any webpage. Not only that, but there's a search function as\n",
    "# well. This should help make more sense of the tags and components that hold the data she's looking for.\n",
    "\n",
    "# Let's visit one of the websites Robin plans to use and take a peek at its structure, then practice finding different\n",
    "# components."
   ]
  },
  {
   "cell_type": "code",
   "execution_count": null,
   "metadata": {},
   "outputs": [],
   "source": [
    "#  NASA news website\n",
    "\n",
    "# extract the most recently published article's title and summary. \n",
    "# Let's find the HTML components in the page so we can help her with that.\n"
   ]
  },
  {
   "cell_type": "code",
   "execution_count": null,
   "metadata": {},
   "outputs": [],
   "source": [
    "# Click on website, then Open the DevTools by right-clicking anywhere on the page, \n",
    "# then click \"Inspect\" from the pop-up menu."
   ]
  },
  {
   "cell_type": "code",
   "execution_count": null,
   "metadata": {},
   "outputs": [],
   "source": [
    "# After clicking \"Inspect,\" a new window should open under the webpage. \n",
    "# This new window is docked to the webpage itself—it's part of the webpage, it's attached to the webpage, but it has \n",
    "# a different job.\n"
   ]
  },
  {
   "cell_type": "code",
   "execution_count": null,
   "metadata": {},
   "outputs": [],
   "source": [
    "#  What we're currently looking at is how this news site is assembled. \n",
    "\n",
    "# The <html lang=”en” …> line should look familiar, as well as the <head /> and <body /> tags, but what is all of this\n",
    "# other stuff? And the stuff inside the familiar tags? \n",
    "\n",
    "# Remember how we spoke about containers? \n",
    "# For example, the <body /> tag is a container for every visual component of a webpage, such as headers and paragraphs.\n",
    "# Inside that <body /> tag are other containers, which are nested much like a nesting doll. \n",
    "# In the case of this website (and most websites), these other containers inside the body are <div /> tags."
   ]
  },
  {
   "cell_type": "code",
   "execution_count": null,
   "metadata": {},
   "outputs": [],
   "source": [
    "# There is a lot of custom code included in this website, so instead of scrolling through all of it to find a certain \n",
    "# element, we will search for it instead. \n",
    "\n",
    "# In your DevTools, press \"ctrl + f\" or \"command + f\" to bring up the search function. \n",
    "\n",
    "# Input \"gallery_header\" into the search bar then press enter. \n",
    "# Make sure the line \"header class=\"gallery_header\" is selected, then hover over it with your mouse pointer. \n",
    "\n",
    "# This will highlight the header section of the page: the title and its container element.\n",
    "\n"
   ]
  },
  {
   "cell_type": "code",
   "execution_count": null,
   "metadata": {},
   "outputs": [],
   "source": [
    "# At this point the code doesn't match what is in the reading, but essentially, underneath the gallery_header are\n",
    "# the nested articles, which if you hover beneath the header code, should highlight as you go down. "
   ]
  },
  {
   "cell_type": "code",
   "execution_count": 3,
   "metadata": {},
   "outputs": [],
   "source": [
    "# This is a great way to pinpoint where on the website we want our web scraping code to pull data from. \n",
    "# We can't just tell the code to grab a div or a header though, because there could be many of these on the website \n",
    "# when we only want one. This is where the class and id attributes come into play.\n"
   ]
  },
  {
   "cell_type": "code",
   "execution_count": 4,
   "metadata": {},
   "outputs": [],
   "source": [
    "# HTML Classes and IDs\n",
    "\n",
    "# HTML code can get bloated and confusing, so keep specific containers unique. \n",
    "# With everything contained within HTML code, it can be really difficult to find what we're looking for.\n",
    "\n",
    "# how are developers able to distinguish one <div /> from another? \n",
    "# By adding attributes unique to each container or element. \n",
    "\n",
    "# That's another reason to practice using DevTools. We can use it to search for these attributes. \n",
    "\n"
   ]
  },
  {
   "cell_type": "code",
   "execution_count": null,
   "metadata": {},
   "outputs": [],
   "source": [
    "# How exactly do they work?\n",
    "\n",
    "# Think of it like a litter of puppies. They all look pretty similar, but they each have a personality quirk or trait \n",
    "# that makes them act a little differently from their siblings. \n",
    "# By adding a different color collar to each puppy, we can now tell them apart just by looking. \n",
    "# HTML class and id attributes are like those collars.\n",
    "\n"
   ]
  },
  {
   "cell_type": "code",
   "execution_count": 5,
   "metadata": {},
   "outputs": [],
   "source": [
    "# Robin knows that she will want to pull the top article and summary sentence. \n",
    "\n",
    "# How do we identify those components, though? Let's look at our DevTools again. \n",
    "\n",
    "# This time, let's drill further down into the nested components—we want to find the element that highlights only the \n",
    "# top article on the page.\n",
    "\n",
    "# the first <li /> element with a class of \"slide\" highlights the top article on the page."
   ]
  },
  {
   "cell_type": "code",
   "execution_count": null,
   "metadata": {},
   "outputs": [],
   "source": [
    "# The section we're aiming for (the article title and text) is nested further in, and there are quite a few steps \n",
    "# we'll need to take to get there.\n",
    "\n",
    "# First, click the drop-down arrow on the <li class=”slide”> element (if it isn't already open). \n",
    "\n",
    "# From there, we're directed to another element: a div with the class of \"image_and_description_container.\" \n",
    "\n",
    "# Click that drop-down arrow as well. Within that, we have another element, <div class=”list_text”>.\n",
    "\n",
    "# Maneuvering around these nested elements is called \"drilling down,\" and it's a skill you'll encounter and employ \n",
    "# fairly often as you continue to work with HTML."
   ]
  },
  {
   "cell_type": "code",
   "execution_count": null,
   "metadata": {},
   "outputs": [],
   "source": [
    "# <div class=”list_text”>.\n",
    "\n",
    "# This final container holds the information Robin will want: the article title and summary. \n",
    "# With the use of DevTools, this process is something we'll be following with each additional webpage we want to\n",
    "# scrape: \n",
    "# visit the page, identify the data, then shift through the HTML code to pinpoint its location on the webpage.\n",
    "\n",
    "# Too slow. Let's condense the steps above.\n",
    "\n",
    "# Go ahead and close your dev tools window, then take another look at the webpage.\n",
    "# Locate the first article's title and summary, and right-click the space below them. \n",
    "# This time, click \"inspect\" from the pop-up menu.\n",
    "\n",
    "# The dev tools window automatically opens again, but this time the highlighted section is already closer to the \n",
    "# element you want to view, if it isn't already selected. \n",
    "\n",
    "# You can tell by mousing over the highlighted element—it will simultaneously highlight the corresponding location on \n",
    "# the webpage.\n",
    "\n"
   ]
  },
  {
   "cell_type": "code",
   "execution_count": null,
   "metadata": {},
   "outputs": [],
   "source": [
    "# Mobile Device Preview\n",
    "\n",
    "# DevTools also comes with a feature that allows us to view webpages as we would if using a phone or tablet. \n",
    "# Not only that, but there are specific device models we can use to test the page. \n",
    "\n",
    "# Let's look at the DevTools again—this time at the Device icon.\n",
    "\n",
    "# top left corner is the Device Icon \n",
    "# This button toggles the device selector. When clicked, the webpage we're viewing automatically adjusts to the height\n",
    "# and width of a responsive mobile device. \n",
    "\n",
    "# When in mobile mode, there is a drop-down menu at the top left of the screen; this menu provides a selection of \n",
    "# devices to choose from and to view the site with."
   ]
  }
 ],
 "metadata": {
  "kernelspec": {
   "display_name": "PythonData",
   "language": "python",
   "name": "pythondata"
  },
  "language_info": {
   "codemirror_mode": {
    "name": "ipython",
    "version": 3
   },
   "file_extension": ".py",
   "mimetype": "text/x-python",
   "name": "python",
   "nbconvert_exporter": "python",
   "pygments_lexer": "ipython3",
   "version": "3.7.7"
  }
 },
 "nbformat": 4,
 "nbformat_minor": 4
}
