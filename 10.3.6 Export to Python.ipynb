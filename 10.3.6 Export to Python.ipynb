{
 "cells": [
  {
   "cell_type": "raw",
   "metadata": {},
   "source": [
    "We've built our scraping script, but to automate it we need to convert it to a .py file. \n",
    "\n",
    "The next step in making this an automated process is to download the current code into a Python file. It won't transition over perfectly, we'll need to clean it up a bit, but it's an easier task than copying each cell and pasting it over in the correct order."
   ]
  },
  {
   "cell_type": "raw",
   "metadata": {},
   "source": [
    "1. While your notebook is open, navigate to the top of the page to the Files tab.\n",
    "2. From here, scroll down to the \"Download as\" section of the drop-down menu.\n",
    "3. Select \"Python (.py)\" from the next menu to download the code.\n",
    "4. If you get a warning about downloading this type of file, click \"Keep\" to continue the download. \n",
    "5. Navigate to your Downloads folder and open the new file. A brief look at the first lines of code shows us that the code wasn't the only thing to be ported over. The number of times each cell has been run is also there, for example.\n",
    "6. Clean up the code by removing unnecessary blank spaces and comments.\n",
    "\n",
    "When you're done tidying up the code, make sure you save it in your working folder with your notebook code as scraping.py. You can also test the script by running it through your terminal.\n",
    "\n"
   ]
  }
 ],
 "metadata": {
  "kernelspec": {
   "display_name": "PythonData",
   "language": "python",
   "name": "pythondata"
  },
  "language_info": {
   "codemirror_mode": {
    "name": "ipython",
    "version": 3
   },
   "file_extension": ".py",
   "mimetype": "text/x-python",
   "name": "python",
   "nbconvert_exporter": "python",
   "pygments_lexer": "ipython3",
   "version": "3.7.7"
  }
 },
 "nbformat": 4,
 "nbformat_minor": 4
}
