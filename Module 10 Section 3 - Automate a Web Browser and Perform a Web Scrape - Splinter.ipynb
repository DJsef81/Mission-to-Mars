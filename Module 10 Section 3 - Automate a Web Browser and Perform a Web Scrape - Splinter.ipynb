{
 "cells": [
  {
   "cell_type": "code",
   "execution_count": null,
   "metadata": {},
   "outputs": [],
   "source": [
    "# 10.3.1 Use Splinter\n",
    "\n",
    "# Now we have a basic understanding of HTML tags and how they fit together to create a webpage, which is a great first\n",
    "# step. Now to get started with the scraping.\n",
    "\n",
    "# The next part is to use Splinter to automate a browser.\n",
    "\n",
    "# After we get Splinter rolling, we'll actually scrape data using BeautifulSoup. \n",
    "# This is where our practice with HTML tags comes in. To scrape the data we want, we'll have to tell BeautifulSoup \n",
    "# which HTML tag is being used and if it has an attribute such as a specific class or id."
   ]
  },
  {
   "cell_type": "code",
   "execution_count": null,
   "metadata": {},
   "outputs": [],
   "source": [
    "# What happens when you execute your automated browser? \n",
    "\n",
    "# 1. Once you execute your completed scraping script, a new Chrome web browser will pop up with a banner across the top \n",
    "# that says \"Chrome is being controlled by automated test software.\"\n",
    "\n",
    "# This message lets you know that your Python script is directing the browser. The browser will visit websites and \n",
    "# interact with them on its own.\n",
    "\n",
    "\n",
    "# 3. This message lets you know that your Python script is directing the browser. The browser will visit websites and \n",
    "# interact with them on its own.\n",
    "\n",
    "# Depending on how you've programmed your script, your browser will click buttons, use a search bar, or even log in \n",
    "# to a website."
   ]
  },
  {
   "cell_type": "code",
   "execution_count": null,
   "metadata": {},
   "outputs": [],
   "source": [
    "# Navigate to your Mission-to-Mars folder using the terminal. Then go ahead and activate Jupyter Notebook. \n",
    "# Create a new .ipynb file to get started—this is where we'll begin our web scraping work. \n",
    "# Let's name it \"Practice.\" It can be deleted when we're done, or used as a reference later on. \n",
    "# It's not necessary, but you can add it to your GitHub repo and to your .gitignore file so that it's hidden from \n",
    "# public view.\n",
    "\n"
   ]
  }
 ],
 "metadata": {
  "kernelspec": {
   "display_name": "PythonData",
   "language": "python",
   "name": "pythondata"
  },
  "language_info": {
   "codemirror_mode": {
    "name": "ipython",
    "version": 3
   },
   "file_extension": ".py",
   "mimetype": "text/x-python",
   "name": "python",
   "nbconvert_exporter": "python",
   "pygments_lexer": "ipython3",
   "version": "3.7.7"
  }
 },
 "nbformat": 4,
 "nbformat_minor": 4
}
