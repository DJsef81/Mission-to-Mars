{
 "cells": [
  {
   "cell_type": "code",
   "execution_count": null,
   "metadata": {},
   "outputs": [],
   "source": [
    "# Robin needs to download a few libraries and tools that she'll need when she's ready to start scraping data: \n",
    "\n",
    "# Splinter to automate a web browser\n",
    "# BeautifulSoup to parse and extract the data\n",
    "# MongoDB to hold the data that has been gathered\n",
    "\n",
    "# Before installing new tools, open your terminal and make sure your Python coding environment is active.\n",
    "\n"
   ]
  },
  {
   "cell_type": "code",
   "execution_count": null,
   "metadata": {},
   "outputs": [],
   "source": [
    "# Splinter\n",
    "\n",
    "# Splinter is the tool that will automate our web browser as we begin scraping. \n",
    "# This means that it will open the browser, visit a webpage, and then interact with it \n",
    "# (such as logging in or searching for an item). \n",
    "\n",
    "# To do all of this, we'll need to install Splinter and ChromeDriver.\n",
    "\n",
    "# To install Splinter, open your terminal and make sure your coding environment is active. \n",
    "# Then, run the command pip install splinter. Once that installation is complete, we'll install ChromeDriver.\n",
    "\n",
    "# IMPORTANT\n",
    "# To successfully use the ChromeDriver and scrape website data, a separate package will need to be installed into our \n",
    "# virtual environment.\n",
    "\n"
   ]
  },
  {
   "cell_type": "code",
   "execution_count": null,
   "metadata": {},
   "outputs": [],
   "source": [
    "# Web-Driver Manager\n",
    "\n",
    "# The web driver manager package will allow us to easily use a driver that scrapes websites without having to go \n",
    "# through the complicated process of installing the stand alone ChromeDriver.\n",
    "\n",
    "# To install the manager make sure your are still in your active coding environment and run the command \n",
    "# pip install webdriver_manager\n",
    "\n"
   ]
  },
  {
   "cell_type": "code",
   "execution_count": null,
   "metadata": {},
   "outputs": [],
   "source": [
    "# BeautifulSoup\n",
    "\n",
    "# parses and extracts data\n",
    "\n",
    "# To install BeautifulSoup, run the command pip install bs4 in your terminal. \n",
    "\n"
   ]
  },
  {
   "cell_type": "code",
   "execution_count": null,
   "metadata": {},
   "outputs": [],
   "source": [
    "# MongoDB\n",
    "\n",
    "# MongoDB (also known as Mongo) is a document database that thrives on chaos. \n",
    "# it is far more flexible when it comes to storing data than a structured database such as SQL. \n",
    "# It's able to handle smaller, more personal projects as well as larger-scale projects that a company might require.\n",
    "\n",
    "# For this module, Mongo is a better choice than SQL because the data we'll scrape from the web isn't going to be\n",
    "# uniform. For example, how would we break down an image into rows and columns? We can't. \n",
    "# But Mongo will store and access it as a document instead.\n",
    "\n",
    "# Let's first open a terminal window (make sure your virtual environment is active) and execute the \n",
    "# \"pip install pymongo\" command. PyMongo is the tool that allow developers to use Python with Mongo.\n",
    "\n",
    "# Now let's install MongoDB.\n"
   ]
  },
  {
   "cell_type": "code",
   "execution_count": null,
   "metadata": {},
   "outputs": [],
   "source": [
    "# To install Mongo on your macOS computer, follow the instructions in the official documentation \n",
    "\n",
    "\n",
    "# It's best to use the Homebrew brew package for this installation. \n",
    "# In your terminal, the installation command will start with brew tap.\n",
    "\n",
    "# Once Mongo is installed, we want to run it as a macOS service because doing so will automatically set system \n",
    "# ulimit values correctly.\n",
    "\n",
    "# NOTE\n",
    "# Mac users will use this line to create a database instance: brew services start mongodb-community@4.2 instead of \n",
    "# mongod."
   ]
  },
  {
   "cell_type": "code",
   "execution_count": null,
   "metadata": {},
   "outputs": [],
   "source": [
    "# Additional Libraries\n",
    "# There are two final Python libraries required to run scraping code successfully: html5lib and lxml. \n",
    "# Both packages are used to parse HTML in Python, which will be important as you traverse through different web pages \n",
    "# to find and collect information.\n",
    "\n",
    "# To install these libraries, first make sure your coding environment is active. Then, type the following commands in \n",
    "# your terminal to install them:\n",
    "\n",
    "# pip install html5lib\n",
    "# pip install lxml\n"
   ]
  }
 ],
 "metadata": {
  "kernelspec": {
   "display_name": "PythonData",
   "language": "python",
   "name": "pythondata"
  },
  "language_info": {
   "codemirror_mode": {
    "name": "ipython",
    "version": 3
   },
   "file_extension": ".py",
   "mimetype": "text/x-python",
   "name": "python",
   "nbconvert_exporter": "python",
   "pygments_lexer": "ipython3",
   "version": "3.7.7"
  }
 },
 "nbformat": 4,
 "nbformat_minor": 4
}
