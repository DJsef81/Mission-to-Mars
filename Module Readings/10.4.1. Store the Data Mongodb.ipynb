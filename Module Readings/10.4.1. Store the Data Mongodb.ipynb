{
 "cells": [
  {
   "cell_type": "raw",
   "metadata": {},
   "source": [
    "Now that she has the results she wants, she needs to store them in a spot where they can be easily accessed and retrieved as needed. \n",
    "\n",
    "SQL isn't a good option because it works with tabular data, and only one of the items we scraped is presented in that format. Even then, it's all condensed into a block of HTML code.\n",
    "\n",
    "This is where a non-relational database comes in.\n",
    "\n",
    "MongoDB (Mongo for short) is a non-relational database that stores data in Binary JavaScript Object Notation (JSON), or BSON format. We'll access data stored in Mongo the same way we access data stored in JSON files. This method of data storage is far more flexible than SQL's model.\n",
    "\n",
    "JSON, JavaScript Object Notation, is a method that sorts and presents data in the form of key:value pairs. It looks much like a Python dictionary and can be traversed through using list notation."
   ]
  },
  {
   "cell_type": "raw",
   "metadata": {},
   "source": [
    "A Mongo database contains collections. These collections contain documents, and each document contains fields, and fields are where the data is stored.\n",
    "\n"
   ]
  },
  {
   "cell_type": "raw",
   "metadata": {},
   "source": [
    "How to Start MONGO\n",
    "\n",
    "1. open a new terminal window, but make sure your working environment is activated. Note that your environment does not need to have the same name as the one in the image.open a new terminal window,\n",
    "\n",
    "2. Then, to start an instance, type mongod into the first line of your terminal and press return or enter on your keyboard. Some Mac users may not need to run this command as Mongo is already running in the background\n",
    "\n",
    "We need to keep this tab open and active so that the Mongo instance continues to run. While Mongo does have a GUI, similar to pgAdmin for Postgres, we'll be using a command line interface (CLI) to make connections within the database.using a command line interface (CLI) to make connections within the database\n",
    "\n",
    "3. In our terminal, create a second window or tab to use for working in Mongo. Again, make sure your environment is active.\n",
    "\n",
    "On the first line of this new window, type \"mongo.\" This is done in a new window because, after you execute the command, you cannot use the terminal for other tasks—only to send information to and from the database.\n",
    "\n",
    "After executing the command, your terminal will show a right angle bracket and a blinking cursor. This indicates that the database is active and ready for use.\n",
    "\n",
    "Either process can be easily stopped and exited from by pressing Command + C or CTRL + C on your keyboard.\n"
   ]
  },
  {
   "cell_type": "raw",
   "metadata": {},
   "source": [
    "Create a Database\n",
    "We don't have a fancy GUI to use while navigating through creating a database and inserting data, but that doesn't mean that our commands will be very complex. Let's create a new practice database to get used to some of the more common commands.\n",
    "\n",
    "In the terminal where Mongo is active and awaiting instruction, type \"use practicedb\" and then press Enter. This creates a new database named \"practicedb\" and makes it our active database.\n",
    "\n",
    "If you're not sure which database you're using, type \"db\" in the terminal and press Enter.\n",
    "You can also see how many databases are stored locally by typing \"show dbs\" in your terminal. \n",
    "Type \"show collections\" to see what is in the database"
   ]
  },
  {
   "cell_type": "raw",
   "metadata": {},
   "source": [
    "Insert Data\n",
    "Now that we've confirmed we're in the right database, we can practice the commands to insert data or a document.\n",
    "\n",
    "The syntax follows: db.collectionName.insert({key:value}). Its components do the following:\n",
    "\n",
    "db refers to the active database, practicedb.\n",
    "\n",
    "collectionName is the name of the new collection we're creating (we'll customize it when we practice).\n",
    "\n",
    ".insert({ }) is how MongoDB knows we're inserting data into the collection.\n",
    "\n",
    "key:value is the format into which we're inserting our data; its construction is very similar to a Python dictionary.\n",
    "\n",
    "In short, we're saying, \"Hey, Mongo, use the database we've already specified, and insert a document into this collection. If there's not a collection named that, then create one.\"\n",
    "\n",
    "ADDING ANIMALS TO OUR DB\n",
    "db.zoo.insert({name: 'Cleo', species: 'jaguar', age: 12, hobbies: ['sleeping', 'eating', 'climbing']})\n",
    "After pressing Enter, the next line in your terminal should read WriteResult({ 'nInserted\" : 1 })"
   ]
  },
  {
   "cell_type": "raw",
   "metadata": {},
   "source": [
    "Now let's add another animal. In your shell, type the following:\n",
    "\n",
    "db.zoo.insert({name: 'Banzai', species: 'fox', age: 1, hobbies: ['sleeping', 'eating', 'playing']})\n",
    "\n",
    "view what's inside a collection with the find() command. \n",
    "Executing db.zoo.find() in the terminal will return each of the documents we've already added."
   ]
  },
  {
   "cell_type": "raw",
   "metadata": {},
   "source": [
    "Documents can also be deleted or dropped. The syntax to do so follows: db.collectionName.remove({}).\n",
    "\n",
    "So, if we wanted to remove Cleo from the database, we would update that line of code to:\n",
    "\n",
    "db.zoo.remove({name: 'Cleo'}).\n",
    "\n",
    "We can also empty the collection at once, instead of one document at a time. \n",
    "For example, to empty our pets collection, we would type: db.zoo.remove({}). \n",
    "Because the inner curly brackets are empty, Mongo will assume that we want everything in our pets collection to be removed.\n",
    "\n",
    "Additionally, to remove a collection all together, we would use db.zoo.drop(). After running that line in the shell, our pets collection will no longer exist at all.\n",
    "\n",
    "And to remove the test database, we will use this line of code: db.dropDatabase()."
   ]
  },
  {
   "cell_type": "raw",
   "metadata": {},
   "source": [
    "You can quit the Mongo shell by using keyboard commands: Command + C for Mac or CTRL + C for Windows. \n",
    "\n",
    "This stops the processes that are actively running and frees up your terminal. \n",
    "\n",
    "Remember to quit both the server and the shell when you're done practicing. Otherwise, they'll continue to run in the background and use system resources, such as memory, and slow down the response time of your computer."
   ]
  },
  {
   "cell_type": "raw",
   "metadata": {},
   "source": [
    "Create a new database named \"mars_app\" to hold the Mars data we scrape."
   ]
  },
  {
   "cell_type": "code",
   "execution_count": null,
   "metadata": {},
   "outputs": [],
   "source": []
  }
 ],
 "metadata": {
  "kernelspec": {
   "display_name": "PythonData",
   "language": "python",
   "name": "pythondata"
  },
  "language_info": {
   "codemirror_mode": {
    "name": "ipython",
    "version": 3
   },
   "file_extension": ".py",
   "mimetype": "text/x-python",
   "name": "python",
   "nbconvert_exporter": "python",
   "pygments_lexer": "ipython3",
   "version": "3.7.7"
  }
 },
 "nbformat": 4,
 "nbformat_minor": 4
}
