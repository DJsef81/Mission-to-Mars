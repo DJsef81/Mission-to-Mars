{
 "cells": [
  {
   "cell_type": "code",
   "execution_count": null,
   "metadata": {},
   "outputs": [],
   "source": [
    "# 10.2.1 Use HTML Elements\n",
    "\n",
    "# Robin has all tools installed and tested Mongo to make sure it's ready for data\n",
    "# before she can start pulling data off of the web, she needs to be able to identify where the data is stored within \n",
    "# the HTML code.\n",
    "\n",
    "# Every webpage is built using HYPERTEXT MARKUP LANGUAGE, or HTML. \n",
    "\n",
    "# Some sites are more sophisticated than others, but they all have the same basic structure. \n",
    "# Each element of a page, such as a title or a paragraph, is wrapped in a TAG. \n",
    "# Each TAG is specific to the element it's holding, and there are many different types of TAGS.\n"
   ]
  },
  {
   "cell_type": "code",
   "execution_count": null,
   "metadata": {},
   "outputs": [],
   "source": [
    "# Think of a webpage as a window into the internet. \n",
    "# HTML is the glass, boards, and blinds on that window. \n",
    "\n",
    "# Just like there are many sizes and shapes to windows, each webpage has been customized to present users with a view \n",
    "# into a different topic. \n",
    "\n",
    "# Consider a weather report delivered through a weather site. Think of a news source or social media platform. \n",
    "# Each of these examples are all built using custom HTML. \n",
    "\n",
    "# Our first step will be to explore that design so that we can write a script that knows what it's looking at when it \n",
    "# interacts with a webpage.\n",
    "\n"
   ]
  },
  {
   "cell_type": "code",
   "execution_count": null,
   "metadata": {},
   "outputs": [],
   "source": [
    "# # Open VS Code and create a file named index.html. \n",
    "# This file can be saved to your desktop because it's just for practice.\n",
    "\n",
    "# In this blank HTML file put an exclamation point on the first line and press Enter. \n",
    "# This should autofill the editor to contain everything we need for a basic HTML page."
   ]
  },
  {
   "cell_type": "code",
   "execution_count": null,
   "metadata": {},
   "outputs": [],
   "source": [
    "# After executing the \"!\" on VS Code, the autofill should look as follows: \n",
    "\n",
    "# <!DOCTYPE html>\n",
    "# <html lang=\"en\">\n",
    "# <head>\n",
    "#  <meta charset=\"UTF-8\">\n",
    "#  <meta name=\"viewport\" content=\"width=device-width, initial-scale=1.0\">\n",
    "#  <meta http-equiv=\"X-UA-Compatible\" content=\"ie=edge\">\n",
    "#  <title>Document</title>\n",
    "# </head>\n",
    "# <body>\n",
    "# </body>\n",
    "# </html>"
   ]
  },
  {
   "cell_type": "code",
   "execution_count": null,
   "metadata": {},
   "outputs": [],
   "source": [
    "# In this code, each line of code is wrapped in a tag, such as <title>. \n",
    "\n",
    "\n",
    "# HTML tags always begin with a left angle bracket (<), followed by the name of the tag (in our case, \"title\"). \n",
    "# Once the name has been entered, the tag is then closed with a right angle bracket (>). \n",
    "# This is only the first half of the completed tag, or the opening tag. We'll also need to add the closing tag.\n",
    "\n",
    "# A closing HTML tag is very similar to the opening tag, but the only difference is a single character, the forward \n",
    "# slash inside the left angle bracket: </title>. \n",
    "\n",
    "# Now that there are both opening and closing HTML title tags, you can add the title of the document.\n",
    "\n",
    "# For example, if you wanted your webpage title to be \"Math Is Fun!\" then the entire line of HTML code would look \n",
    "# like this: <title>Math Is Fun!</title>.\n",
    "\n"
   ]
  },
  {
   "cell_type": "code",
   "execution_count": null,
   "metadata": {},
   "outputs": [],
   "source": [
    "# HTML is a coding language used for creating webpages. It’s built using specific tags and arranging them in a nested \n",
    "# order, a bit like building blocks. \n",
    "\n",
    "#For example, if we wanted a header and a paragraph in the same section of a webpage, we would nest <h1 /> and <p /> \n",
    "# tags inside a <div /> tag, with the <div /> tag acting as a box to hold the other pieces.\n",
    "\n",
    "# <div>\n",
    "#    <h1>Hello, world!</h1>\n",
    "#    <p>This is a great beginning.</p>\n",
    "# </div>\n",
    "\n",
    "# Most elements have opening and closing tags, which are identical except for the forward slash that begins the \n",
    "# closing tag. The closing tags represent the end of that HTML element."
   ]
  },
  {
   "cell_type": "code",
   "execution_count": null,
   "metadata": {},
   "outputs": [],
   "source": [
    "# <!DOCTYPE html>\n",
    "# <html lang=\"en\">\n",
    "# <head>\n",
    "#  <meta charset=\"UTF-8\">\n",
    "#  <meta name=\"viewport\" content=\"width=device-width, initial-scale=1.0\">\n",
    "#  <meta http-equiv=\"X-UA-Compatible\" content=\"ie=edge\">\n",
    "#  <title>Document</title>\n",
    "# </head>\n",
    "# <body>\n",
    "# </body>\n",
    "# </html>\n",
    "\n",
    "# These tags are what define each element of this webpage. \n",
    "# We can open this page right now, but it will be blank because we haven't added anything to it yet. \n",
    "# Let's take a closer look at how these different elements work together."
   ]
  },
  {
   "cell_type": "code",
   "execution_count": null,
   "metadata": {},
   "outputs": [],
   "source": [
    "# 1. <!DOCTYPE html> is a declaration, not a tag. It tells web browsers in which HTML version the document is written.\n",
    "# This should always be the first line in an HTML document.\n"
   ]
  },
  {
   "cell_type": "code",
   "execution_count": null,
   "metadata": {},
   "outputs": [],
   "source": [
    "# 2. <head> is the opening tag that serves as a container for the setup elements. \n",
    "# Jupyter Notebook imports occur in the top cell whereas Python imports occur at the top of the code. \n",
    "# HTML imports (e.g., a stylesheet or a library) will be within the <head>.\n"
   ]
  },
  {
   "cell_type": "code",
   "execution_count": null,
   "metadata": {},
   "outputs": [],
   "source": [
    "# 3. <meta> is short for \"metadata\" and tells the web browser basic information, such as page width.\n"
   ]
  },
  {
   "cell_type": "code",
   "execution_count": null,
   "metadata": {},
   "outputs": [],
   "source": [
    "# 4. <title> and </title> are the opening and closing tags that serve as a container for the page title displayed on \n",
    "# the tab at the top of your web browser. \n",
    "\n",
    "# In the example above, the title is \"Document\" and would appear like so in the browser:\n"
   ]
  },
  {
   "cell_type": "code",
   "execution_count": null,
   "metadata": {},
   "outputs": [],
   "source": [
    "# 5. </head> is the closing tag for the <head> tag, much like the end of a code block in Python.\n"
   ]
  },
  {
   "cell_type": "code",
   "execution_count": null,
   "metadata": {},
   "outputs": [],
   "source": [
    "# 6. <body> and </body> are opening and closing tags. They also serve as a container, but for data we can see \n",
    "# (navigation menus, lists, and paragraphs).\n"
   ]
  },
  {
   "cell_type": "code",
   "execution_count": null,
   "metadata": {},
   "outputs": [],
   "source": [
    "# 7. <html lang=”en”> and </html> are opening and closing tags that serve as a container for all elements within an '\n",
    "# HTML page.\n"
   ]
  },
  {
   "cell_type": "code",
   "execution_count": null,
   "metadata": {},
   "outputs": [],
   "source": [
    "# Nesting is when HTML elements are contained within other elements. \n",
    "# Picture a set of nesting dolls with each nested in proper order, by design, into the largest doll. \n",
    "# It is the same for HTML tags—they must be in the correct order to not break the design of the webpage.\n",
    "\n",
    "# Keeping code clean and easy to read is an important part of being a developer. \n",
    "# How would you keep your HTML in good visual shape?\n",
    "\n",
    "# Use indentation to keep the tags in order—this helps show how and where elements are nested.\n",
    "# Coding guidelines for HTML suggest using indentation of two to four spaces for each nested element. \n",
    "# This helps keep our code clean and easy to read."
   ]
  },
  {
   "cell_type": "code",
   "execution_count": null,
   "metadata": {},
   "outputs": [],
   "source": [
    "# Let's review the new tags we put in our VS Code for \"index.html\":\n",
    "\n",
    "# <h1 /> is a first-level header. The text in this tag will be displayed bigger and bolder than the rest of the page's\n",
    "# text. There are many different headers available to use, from h1 to h6, with h1 returning the largest text.\n",
    "\n",
    "# <p /> is a paragraph tag, currently holding lorem ipsum sentences. \n",
    "# (lorem ipsum is dummy text used to stage websites). \n",
    "# More can be read about it on the Lorem Ipsum reference website \n",
    "\n",
    "# <ul /> is an unordered list.\n",
    "\n",
    "# <li /> is a list item.\n"
   ]
  },
  {
   "cell_type": "code",
   "execution_count": 1,
   "metadata": {},
   "outputs": [],
   "source": [
    "# What does it mean when the <li /> tags are inside the <ul /> tags?\n",
    "\n",
    "# It means the tags are nested. The <ul /> tags are a container for the <li /> tags.\n",
    "\n",
    "# Without this exact order, the list items would not appear correctly on the webpage."
   ]
  },
  {
   "cell_type": "code",
   "execution_count": null,
   "metadata": {},
   "outputs": [],
   "source": [
    "# Understanding the basic layout and how nesting and containers work is an important part of successful web scraping.\n",
    "\n",
    "# Before we can program our script to pull that data, we have to tell it where to look. \n",
    "\n",
    "# Basically, our script would say, \"look in this <div /> tag, then look inside that for a <p /> tag.\"\n",
    "\n"
   ]
  }
 ],
 "metadata": {
  "kernelspec": {
   "display_name": "PythonData",
   "language": "python",
   "name": "pythondata"
  },
  "language_info": {
   "codemirror_mode": {
    "name": "ipython",
    "version": 3
   },
   "file_extension": ".py",
   "mimetype": "text/x-python",
   "name": "python",
   "nbconvert_exporter": "python",
   "pygments_lexer": "ipython3",
   "version": "3.7.7"
  }
 },
 "nbformat": 4,
 "nbformat_minor": 4
}
