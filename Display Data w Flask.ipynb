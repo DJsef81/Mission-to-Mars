{
 "cells": [
  {
   "cell_type": "raw",
   "metadata": {},
   "source": [
    "from flask import Flask, render_template\n",
    "from flask_pymongo import PyMongo\n",
    "import scraping\n",
    "\n",
    "The first line says that we'll use Flask to render a template.\n",
    "The second line says we'll use PyMongo to interact with our Mongo database.\n",
    "Finally, the last line says that to use the scraping code, we will convert from Jupyter notebook to Python."
   ]
  },
  {
   "cell_type": "raw",
   "metadata": {},
   "source": [
    "Under these lines, let's add the following to set up Flask:\n",
    "\n",
    "app = Flask(__name__)\n"
   ]
  },
  {
   "cell_type": "raw",
   "metadata": {},
   "source": [
    "We also need to tell Python how to connect to Mongo using PyMongo. Next, add the following lines:\n",
    "\n",
    "# Use flask_pymongo to set up mongo connection\n",
    "app.config[\"MONGO_URI\"] = \"mongodb://localhost:27017/mars_app\"\n",
    "mongo = PyMongo(app)\n",
    "\n",
    "app.config[\"MONGO_URI\"] tells Python that our app will connect to Mongo using a URI, a uniform resource identifier similar to a URL.\n",
    "\n",
    "\"mongodb://localhost:27017/mars_app\" is the URI we'll be using to connect our app to Mongo. This URI is saying that the app can reach Mongo through our localhost server, using port 27017, using a database named \"mars_app\"."
   ]
  },
  {
   "cell_type": "raw",
   "metadata": {},
   "source": [
    "Set Up App Routes\n",
    "\n",
    "The code we create next will set up our Flask routes: one for the main HTML page everyone will view when visiting the web app, and one to actually scrape new data using the code we've written.\n",
    "\n",
    "Flask routes bind URLs to functions. For example, the URL \"ourpage.com/\" brings us to the homepage of our web app. The URL \"ourpage.com/scrape\" will activate our scraping code.\n",
    "\n",
    "These routes can be embedded into our web app and accessed via links or buttons."
   ]
  },
  {
   "cell_type": "raw",
   "metadata": {},
   "source": [
    "First, let's define the route for the HTML page. In our script, type the following:\n",
    "\n",
    "@app.route(\"/\")\n",
    "def index():\n",
    "   mars = mongo.db.mars.find_one()\n",
    "   return render_template(\"index.html\", mars=mars)\n",
    "   \n",
    "This route, @app.route(\"/\"), tells Flask what to display when we're looking at the home page, index.html (index.html is the default HTML file that we'll use to display the content we've scraped). This means that when we visit our web app's HTML page, we will see the home page.\n",
    "\n",
    "Within the def index(): function the following is accomplished:\n",
    "\n",
    "mars = mongo.db.mars.find_one() uses PyMongo to find the \"mars\" collection in our database, which we will create when we convert our Jupyter scraping code to Python Script. We will also assign that path to the mars variable for use later.\n",
    "\n",
    "return render_template(\"index.html\" tells Flask to return an HTML template using an index.html file. We'll create this file after we build the Flask routes.\n",
    "\n",
    ", mars=mars) tells Python to use the \"mars\" collection in MongoDB.\n",
    "\n",
    "This function is what links our visual representation of our work, our web app, to the code that powers it.\n",
    "\n"
   ]
  },
  {
   "cell_type": "raw",
   "metadata": {},
   "source": [
    "Our next function will set up our scraping route. This route will be the \"button\" of the web application, the one that will scrape updated data when we tell it to from the homepage of our web app. It'll be tied to a button that will run the code when it's clicked.\n",
    "\n",
    "Let's add the next route and function to our code. In the editor, type the following:\n",
    "\n",
    "@app.route(\"/scrape\")\n",
    "def scrape():\n",
    "   mars = mongo.db.mars\n",
    "   mars_data = scraping.scrape_all()\n",
    "   mars.update({}, mars_data, upsert=True)\n",
    "   return \"Scraping Successful!\"\n"
   ]
  },
  {
   "cell_type": "raw",
   "metadata": {},
   "source": [
    "\n",
    "The first line, @app.route(“/scrape”) defines the route that Flask will be using. This route, “/scrape”, will run the function that we create just beneath it.\n",
    "\n",
    "The next lines allow us to access the database, scrape new data using our scraping.py script, update the database, and return a message when successful. Let's break it down.\n",
    "\n",
    "First, we define it with def scrape():.\n",
    "\n",
    "Then, we assign a new variable that points to our Mongo database: mars = mongo.db.mars.\n",
    "\n",
    "Next, we created a new variable to hold the newly scraped data: mars_data = scraping.scrape_all(). In this line, we're referencing the scrape_all function in the scraping.py file exported from Jupyter Notebook.\n",
    "\n"
   ]
  },
  {
   "cell_type": "raw",
   "metadata": {},
   "source": [
    "Now that we've gathered new data, we need to update the database using .update(). Let's take a look at the syntax we'll use, as shown below:\n",
    "\n",
    ".update(query_parameter, data, options)\n",
    "\n",
    "We're inserting data, so first we'll need to add an empty JSON object with {} in place of the query_parameter. \n",
    "\n",
    "Next, we'll use the data we have stored in mars_data. \n",
    "\n",
    "Finally, the option we'll include is upsert=True. This indicates to Mongo to create a new document if one doesn't already exist, and new data will always be saved (even if we haven't already created a document for it).\n",
    "\n",
    "The entire line of code looks like this: mars.update({}, mars_data, upsert=True).\n",
    "\n"
   ]
  },
  {
   "cell_type": "raw",
   "metadata": {},
   "source": [
    "Finally, we will add a message to let us know that the scraping was successful: return \"Scraping successful!\"."
   ]
  },
  {
   "cell_type": "raw",
   "metadata": {},
   "source": [
    "The final bit of code we need for Flask is to tell it to run. Add these two lines to the bottom of your script and save your work:\n",
    "\n",
    "if __name__ == \"__main__\":\n",
    "   app.run()"
   ]
  }
 ],
 "metadata": {
  "kernelspec": {
   "display_name": "PythonData",
   "language": "python",
   "name": "pythondata"
  },
  "language_info": {
   "codemirror_mode": {
    "name": "ipython",
    "version": 3
   },
   "file_extension": ".py",
   "mimetype": "text/x-python",
   "name": "python",
   "nbconvert_exporter": "python",
   "pygments_lexer": "ipython3",
   "version": "3.7.7"
  }
 },
 "nbformat": 4,
 "nbformat_minor": 4
}
