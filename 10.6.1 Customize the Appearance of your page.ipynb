{
 "cells": [
  {
   "cell_type": "raw",
   "metadata": {},
   "source": [
    "Create HTML Template in a new folder \"templates\" \n",
    "create a file named index.html in vs code\n",
    "use \"!\" shortcut to use HTML template\n",
    "\n",
    "We have three sections we want displayed on the web app: a news article title and summary, a featured image, and the table of Mars facts. We'll also want a nice header at the top to really help the app stand out\n",
    "\n",
    "add Bootstrap for polish\n",
    "A benefit of Bootstrap is that it is responsive. webpages that react to different screen sizes/screen flipped.\n"
   ]
  },
  {
   "cell_type": "raw",
   "metadata": {},
   "source": [
    "Before we can do anything, we'll need to add Bootstrap's content delivery network (CDN) to our HTML.\n",
    "\n",
    "A CDN is a group of servers that work together to provide users with content. In Bootstrap's case, it means that we use the Bootstrap data that lives on those servers and pick and choose what we need for our project.\n",
    "\n",
    "\n"
   ]
  },
  {
   "cell_type": "raw",
   "metadata": {},
   "source": [
    "In our index.html file, we need to add a <link /> link for Bootstrap's stylesheet. \n",
    "\n",
    "The <link /> is where we can access all of Bootstrap's components without needing to download the files themselves. We do this by referencing a CDN for Bootstrap in the <link />.\n",
    "\n",
    "Before closing the <head /> tag, add this link:\n",
    "<link rel=\"stylesheet\" href=\"https://maxcdn.bootstrapcdn.com/bootstrap/3.3.7/css/bootstrap.min.css\">\n",
    "\n",
    "Notice the URL in the href attribute? It's the CDN for the Bootstrap version we'll be using.\n",
    "\n",
    "Adjust the <title /> so it reads \"Mission to Mars,\" "
   ]
  },
  {
   "cell_type": "raw",
   "metadata": {},
   "source": [
    "Now that we have the stylesheet selected, we can start adding Bootstrap components. \n",
    "\n",
    "Components include buttons, thumbnails, alerts—there are many. One of the biggest features that Bootstrap offers is its grid system, which is what makes Bootstrap so responsive and popular. \n",
    "\n",
    "But before we start putting components together and into a grid, we need to set up the container."
   ]
  },
  {
   "cell_type": "raw",
   "metadata": {},
   "source": [
    "Set Up Containers\n",
    "\n",
    "Each HTML page with Bootstrap follows the same layout: The very first tag is a <div /> with a class of \"container\". \n",
    "\n",
    "This is because a container is required for the grid system to work. In your HTML document, in the <body />, add the following:\n",
    "\n",
    "<div class=\"container\">\n",
    "</div>\n",
    "\n",
    "Now that we have the basic layout for the grid system ready to go, we can add components. Let's start with the header.\n",
    "\n"
   ]
  },
  {
   "cell_type": "raw",
   "metadata": {},
   "source": [
    "Add the Header Using Jumbotron\n",
    "\n",
    "For our header we'll use the Bootstrap Jumbotron component. In a non-programming context, a jumbotron is a very large video display screen used in venues like sports stadiums.\n",
    "\n",
    "This Jumbotron component enhances the older style <h1 /> header without additional customizations through CSS (though we can certainly customize it further if we want to later). \n",
    "\n",
    "We'll have our \"Mission to Mars\" title and Scraping button inside the Jumbotron. This way, both items are front and center on the web app.\n",
    "\n",
    "We'll set it up by creating a set of nested <div /> elements first. \n",
    "The first (outer) set has already been created. \n",
    "Next, create the inner <div /> element inside it. \n",
    "Once they're in place, we'll add class=\"jumbotron text-center\" to the opening tag to the inner <div /> element.\n",
    "\n",
    "By adding these specific class attributes, we're creating the Jumbotron component and centering the text that will be displayed through it. Now our code should look like the following:\n",
    "\n",
    "<div class=\"container\">\n",
    "   <div class=\"jumbotron text-center\">\n",
    "   </div>\n",
    "</div>"
   ]
  },
  {
   "cell_type": "raw",
   "metadata": {},
   "source": [
    "Now add the main text. \n",
    "\n",
    "The next level of nesting, within the Jumbotron div, is where we'll add the main text and the button we'll use to run our scraping script.\n",
    "\n",
    "We already know that we want the highest-level header, so let's add an <h1 /> tag. We also know that Robin wants to scrape data with the click of a button, so we'll add that too.\n",
    "\n",
    "<div class=\"container\">\n",
    "   <div class=\"jumbotron text-center\">\n",
    "      <h1>Mission to Mars</h1>\n",
    "      <p><a class=\"btn btn-primary btn-lg\" href=\"/scrape\"\n",
    "                  role=\"button\">Scrape New Data</a></p>\n",
    "   </div>\n",
    "</div>\n",
    "\n",
    "The <h1 /> tag is pretty straightforward. We don't need to dress it up at all because the Jumbotron is already doing that for us. The button is a little more complex, though.\n",
    "\n",
    "First, we added a <p /> tag to the Jumbotron, without any classes. This is because it's only there to help with formatting; it helps styling the content within the tag. Then we've added an <a /> tag with a few different classes included.\n",
    "\n",
    "The \"btn btn-primary btn-lg\" classes are also part of Bootstrap's button component (we're using Bootstrap to create a button instead of the <button /> tag and element). There are three classes here because we're telling Bootstrap that we're using a button (btn), it's the primary color (btn-primary), and it's large (btn-lg).\n",
    "\n",
    "An <a /> tag is specifically used to link to other things, so we've also included the href (hypertext reference). The href is the link to another document or webpage. In our case, we're linking it to another component of our page, \"/scrape\".\n",
    "\n",
    "We've added a role=\"button\" role so that the webpage knows this link functions as a button, not as a regular hyperlink. This just boils down to aesthetics, though.\n",
    "\n",
    "The role=\"button\" is required for screen readers, which are devices that assist people with vision impairments while they visit webpages. When a screen reader encounters role=\\\"button,\\\" it will know that it has found a button and not a simple anchor element (<a />).\n",
    "\n",
    "Notice that the text in our <a /> element is \"Scrape New Data\"? This is how the text will appear in our Bootstrap button."
   ]
  },
  {
   "cell_type": "raw",
   "metadata": {},
   "source": [
    "Add the Mars News Article and Summary\n",
    "\n",
    "Next we'll add in the news article and summary and use the grid system that Bootstrap offers.\n",
    "\n",
    "Bootstrap Grid provides extremely flexible and customizable layouts for all of your HTML components. \n",
    "It consists of a column and row layout with up to 12 columns per row.\n",
    "We're not required to use every column available, and we can mix and match how many items fit into a row.\n",
    "\n",
    "responsive: adapts to whatever browser is being used to view content. \n",
    "\n",
    "For the article and its summary, we'll want it to sit right under the header and span across the page. To span the entire page, we'll utilize all 12 of the grid columns. Let's set the grid up first.\n",
    "\n",
    "Under the header, add a comment for clarity. This way we'll know where the code for each component is.\n",
    "\n",
    "<!-- Mars News -->\n",
    "\n",
    "create a new div with a class of \"row\" and an id of \"mars-news\".\n",
    "\n",
    "<div class=\"row\" id=\"mars-news\">\n",
    "</div>\n",
    "\n",
    "By adding a class of \"row\" we're telling Bootstrap that we're about to use the grid system and everything within this div will be horizontally aligned. The id \"mars-news\" helps us select it later if we want to customize it later with CSS."
   ]
  },
  {
   "cell_type": "raw",
   "metadata": {},
   "source": [
    "Next we'll add a tag that specifies how many columns this component will be using. We want the article and summary to span the width of the page, so we'll use all columns. Update your code as follows:\n",
    "\n",
    "<div class=\"row\" id=\"mars-news\">\n",
    "    <div class=\"col-md-12\">\n",
    "\n",
    "    </div>\n",
    "</div>\n",
    "\n",
    "The col-md-12 means that we want to use 12 columns scaled to a midsize desktop display.\n",
    "\n",
    "If we were optimizing our page for tablets, we would use col-sm-12. For mobile phones, col-xs-12 is ideal. There is an option for larger screens as well: col-lg-12."
   ]
  },
  {
   "cell_type": "raw",
   "metadata": {},
   "source": [
    "Now we'll add the media portion: the article and summary. Because it's a news source, we want it to be displayed as media. There are two more tags we'll add to achieve this, so let's update our code with them.\n",
    "\n",
    "<div class=\"row\" id=\"mars-news\">\n",
    "   <div class=\"col-md-12\">\n",
    "    <div class=\"media\">\n",
    "        <div class=\"media-body\">\n",
    "\n",
    "        </div>\n",
    "    </div>\n",
    "   </div>\n",
    "</div>"
   ]
  },
  {
   "cell_type": "raw",
   "metadata": {},
   "source": [
    "With this update, we've nested in two more tags: one with a class of \"media\" and one with a class of \"media-body.\" \n",
    "\n",
    "First, this tells Bootstrap that we want our content to be displayed as media, and then we insert the media within the body. Bootstrap already has the custom CSS set up for these classes. Now our setup is complete and we can add the article title and summary."
   ]
  },
  {
   "cell_type": "raw",
   "metadata": {},
   "source": [
    "First, we'll add a header, this time a second-level one, so this section has a title. Nest the following <h2 /> tag directly inside the media-body <div />.\n",
    "\n",
    "<h2>Latest Mars News</h2>\n",
    "\n",
    "Next, we need to add the name of the article we scraped. This is where Flask comes into play. We'll use a fourth-level header for the title of the article, placed beneath the <h2 /> element we just created. We'll use double curly brackets to insert the title of the news article.\n",
    "\n",
    "<h4>{{mars.news_title}}</h4>\n",
    "\n",
    "The mars.news_title follows the syntax document.variable_name: In our scraping code, we saved the title of the article we scraped to the \"news_title\" variable and stored that in the mars Mongo document. When Flask encounters these curly brackets, it then looks to the string (in this case, a variable) stored within them and replaces the variable with the data it holds.\n",
    "\n",
    "How is the title being rendered?\n",
    "The curly brackets are part of the templating; we're just telling Flask which data we want inserted. \n",
    "Flask templating connects the variables we used in our code to the data we've collected and stored in Mongo, using the names of the collection and document."
   ]
  },
  {
   "cell_type": "raw",
   "metadata": {},
   "source": [
    "Since the title is also part of the section we're styling with media classes, we'll want it to also follow suit. By adding class=“media-body” to the <h4> element, we're again telling Bootstrap to apply specific styling to the header. The final line of code will look like this:\n",
    "\n",
    "<h4 class=\"media-heading\">{{mars.news_title}}</h4>\n"
   ]
  },
  {
   "cell_type": "raw",
   "metadata": {},
   "source": [
    "Let's add the article summary the same way, only using paragraph tags. We're going to make use of Flask's ability to interpret the string within the double curly brackets again, this time to replace the variable with the paragraph text we scraped earlier.\n",
    "\n",
    "<p>{{ mars.news_paragraph }}</p>\n",
    "\n",
    "We didn't add any classes or ids to this paragraph tag because the default text is fine. If we want to change its appearance later, we can add our own CSS stylesheet."
   ]
  },
  {
   "cell_type": "raw",
   "metadata": {},
   "source": [
    "All together with proper nesting, our code should look like this:\n",
    "\n",
    "<!-- Mars News -->\n",
    "<div class=\"row\" id=\"mars-news\">\n",
    "     <div class=\"col-md-12\">\n",
    "       <div class=\"media\">\n",
    "         <div class=\"media-body\">\n",
    "           <h2>Latest Mars News</h2>\n",
    "           <h4 class=\"media-heading\">{{mars.news_title}}</h4>\n",
    "           <p>{{mars.news_paragraph}}</p>\n",
    "         </div>\n",
    "       </div>\n",
    "     </div>\n",
    "   </div>\n"
   ]
  },
  {
   "cell_type": "raw",
   "metadata": {},
   "source": [
    "Add the Featured Image\n",
    "\n",
    "Now we'll add the featured image that we scraped. This time, we want the image and the table of Mars facts to be next to each other, so we won't use the full 12 columns on the image. First, let's add a comment so we know which piece of data we're inserting.\n",
    "\n",
    "<!-- Featured Image -->\n",
    "\n",
    "Now we'll add the code that'll insert the image. We'll make use of an <img /> tag, but instead of a string within the src= parameter, we'll use Flask's ability to interpret strings (just like we did when we added the news article and paragraph).\n",
    "\n",
    "<div class=\"row\" id=\"mars-featured-image\">\n",
    "\n",
    "  <div class=\"col-md-8\">\n",
    "\n",
    "    <h2>Featured Mars Image</h2>\n",
    "\n",
    "    <img src=\"{{ mars.featured_image }}\" class=\"img-responsive\" alt=\"Responsive image\"/>\n",
    "\n",
    "  </div>\n",
    "\n",
    "</div>\n",
    "\n",
    "Let's walk through these lines and how they've been assembled.\n",
    "\n",
    "Each new item we're inserting now is on its own row, so the very first div will have a class of \"row.\"\n",
    "\n",
    "<div class=\"row\" id=\"mars-featured-image\">\n",
    "\n",
    "</div>\n",
    "We also added an id for later customization: “mars-featured-image”. This is so we can reference it using CSS if we want to fine-tune the appearance later.\n",
    "\n",
    "Next, we'll add the div for the rows—eight this time. The number of columns must total 12, so we'll use the four remaining columns for the table data (which we'll add later).\n",
    "\n",
    "<div class=\"row\" id=\"mars-featured-image\">\n",
    "   <div class=\"col-md-8\">\n",
    "\n",
    "   </div>\n",
    "</div>\n",
    "\n"
   ]
  },
  {
   "cell_type": "raw",
   "metadata": {},
   "source": [
    "Now we're going to add the code to insert the image. Add the following to your code:\n",
    "\n",
    "<h2>Featured Mars Image</h2>\n",
    "<img src=\"{{ mars.featured_image }}\" class=\"img-responsive\" alt=\"Responsive image\">\n",
    "\n",
    "First, we use an <h2 /> element to add the title for this section: Featured Mars Image.\n",
    "The next line inserts an image using the <img /> tag, but the tag alone won't actually insert the image. \n",
    "We also need to include the source, or link to where the image is. \n",
    "We do this by adding src=\"{{ mars.featured_image }}\"—notice that we're once again using Flask's ability to interpret strings here.\n",
    "\n",
    "When we add class=\"img-responsive,\" we're using another built-in Bootstrap component that makes the image responsive. That means that the size of the image varies depending on the browser used, without us having to add extra code to do so.\n",
    "\n",
    "The last portion, alt=\"Responsive image,\" adds alt-text to our image. Alt-text is just text that will appear if the image doesn't load, or will be read by a screen reader if one is used. The benefit of alt-text lies in accessibility: visually impaired users will have the opportunity to better understand a webpage without actually viewing the image on it."
   ]
  },
  {
   "cell_type": "raw",
   "metadata": {},
   "source": [
    "This final block of code should look similar to the one below:\n",
    "\n",
    "      <div class=\"row\" id=\"mars-featured-image\">\n",
    "        <div class=\"col-md-8\">\n",
    "          <h2>Featured Mars Image</h2>\n",
    "          <img\n",
    "            src=\"{{mars.featured_image }}\"\n",
    "            class=\"img-responsive\"\n",
    "            alt=\"Responsive image\"\n",
    "          />\n",
    "        </div>\n",
    "      </div>"
   ]
  },
  {
   "cell_type": "raw",
   "metadata": {},
   "source": [
    "Add the Mars Facts\n",
    "\n",
    "We've gotten two of the three items we've scraped into our HTML. Let's add the third, our table of Mars facts.\n",
    "\n",
    "Remember how the featured image only used eight of the 12 columns? This is where we'll use the remaining four. They're on the same row, though, so we need to be careful about where we place the new tags.\n",
    "\n",
    "To display two different items on the same row using Bootstrap, such as an image and a fact table, how would the tags be nested? \n",
    "\n",
    "The code for the image and the fact table both need to be nested inside the <div class=”row”/> tags.\n",
    "\n",
    "We want the image and the table to appear next to each other, so they need to be on the same row."
   ]
  },
  {
   "cell_type": "raw",
   "metadata": {},
   "source": [
    "When we add the table of facts, we want it to be on the same row as the featured image. This means that we want it to be nested inside the first level of <div /> tags, but at the same level as the second set. In the code below, note the comments indicating the first and second level elements. \n",
    "\n",
    "    <!-- Mars Featured Image →\n",
    "    <!-- First level -->\n",
    "    <div class=\"row\" id=\"mars-featured-image\">\n",
    "      <!-- Second level -->\n",
    "      <div class=\"col-md-8\">\n",
    "        <h2>Featured Mars Image</h2>\n",
    "        <img src=\"{{mars.featured_image }}\" class=\"img-responsive\" alt=\"Responsive image\"/>\n",
    "      </div>\n",
    "    </div>"
   ]
  },
  {
   "cell_type": "raw",
   "metadata": {},
   "source": [
    "We'll add new code after the closing tags of the second <div />. In our editor, let's add a new column class, this time with four columns.\n",
    "\n",
    "<!-- Mars Featured Image -->\n",
    "<div class=\"row\" id=\"mars-featured-image\">\n",
    "     <div class=\"col-md-8\">\n",
    "         <h2>Featured Mars Image</h2>\n",
    "         <img src=\"{{ mars.featured_image }}\" class=\"img-responsive\" alt=\"Responsive image\">\n",
    "     </div>\n",
    "     <!-- Mars Facts -->\n",
    "     <div class=\"col-md-4\">\n",
    "     </div>\n",
    "</div>\n",
    "\n",
    "By adding the new set of div tags this way, we're completing the row and have used all 12 columns worth of space. Within these new tags, we'll start a new row and insert the table.\n",
    "\n",
    "First, create a new div and add a class of \"row.\" We'll also further customize it by adding a unique id: “mars-facts”.\n",
    "\n",
    "       <div class=\"row\" id=\"mars-facts\">\n",
    "\n",
    "       </div>\n",
    "       \n",
    "Second, we'll nest the header and table within the row. Using a fourth level header, we'll first add the \"Mars Facts\" title. Beneath that, we'll add the table."
   ]
  },
  {
   "cell_type": "raw",
   "metadata": {},
   "source": [
    "CURRENT CODE\n",
    "\n",
    "<!DOCTYPE html>\n",
    "<html lang=\"en\">\n",
    "  <head>\n",
    "    <meta charset=\"UTF-8\" />\n",
    "    <meta name=\"viewport\" content=\"width=device-width, initial-scale=1.0\" />\n",
    "    <meta http-equiv=\"X-UA-Compatible\" content=\"ie=edge\" />\n",
    "    <title>Mission to Mars</title>\n",
    "    <link\n",
    "      rel=\"stylesheet\"\n",
    "      href=\"https://maxcdn.bootstrapcdn.com/bootstrap/3.3.7/css/bootstrap.min.css\"\n",
    "    />\n",
    "  </head>\n",
    "  <body>\n",
    "    <div class=\"container\">\n",
    "      <!-- Add Jumbotron to Header -->\n",
    "      <div class=\"jumbotron text-center\">\n",
    "        <h1>Mission to Mars</h1>\n",
    "        <!-- Add a button to activate scraping script -->\n",
    "        <p><a class=\"btn btn-primary btn-lg\" href=\"/scrape\" role=\"button\">Scrape New Data</a></p>\n",
    "      </div>\n",
    "      <!-- Add section for Mars News -->\n",
    "      <div class=\"row\" id=\"mars-news\">\n",
    "        <div class=\"col-md-12\">\n",
    "          <div class=\"media\">\n",
    "            <div class=\"media-body\">\n",
    "              <h2>Latest Mars News</h2>\n",
    "              <h4 class=\"media-heading\">{{ mars.news_title }}</h4>\n",
    "              <p>{{ mars.news_paragraph }}</p>\n",
    "            </div>\n",
    "          </div>\n",
    "        </div>\n",
    "      </div>\n",
    "      <!-- Section for Featured Image and Facts table -->\n",
    "      <div class=\"row\" id=\"mars-featured-image\">\n",
    "        <div class=\"col-md-8\">\n",
    "          <h2>Featured Mars Image</h2>\n",
    "          <img\n",
    "            src=\"{{mars.featured_image }}\"\n",
    "            class=\"img-responsive\"\n",
    "            alt=\"Responsive image\"\n",
    "          />\n",
    "        </div>\n",
    "        <div class=\"col-md-4\">\n",
    "          <!-- Mars Facts -->\n",
    "          <div class=\"row\" id=\"mars-facts\">\n",
    "            <h4>Mars Facts</h4>\n",
    "            {{ mars.facts | safe }}\n",
    "          </div>\n",
    "        </div>\n",
    "      </div>\n",
    "    </div>\n",
    "  </body>\n",
    "</html>\n",
    "\n",
    "\n",
    "The line{{ mars.facts | safe }} accomplishes two tasks: it first references the facts table in the mars document, and it also tells the web browser that this code doesn't contain anything malicious. See the official Template Designer Documentation (Links to an external site.) page for more information."
   ]
  },
  {
   "cell_type": "raw",
   "metadata": {},
   "source": [
    "After saving the file, let's open it to see how it looks in a web browser. Without MongoDB running, it's just a shell—the variables we've put in place are still showing up as we wrote them initially. This is because Flask hasn't interpreted them yet; don't worry, they won't be that way for long!\n",
    "\n",
    "But even a shell, we can see how it will all fit together like puzzle pieces cleanly clicking into place. After we click the Scrape New Data button, you'll see the terminal working and updating, and eventually a \"Scraping successful!\" message will appear on a blank page.\n",
    "\n"
   ]
  }
 ],
 "metadata": {
  "kernelspec": {
   "display_name": "PythonData",
   "language": "python",
   "name": "pythondata"
  },
  "language_info": {
   "codemirror_mode": {
    "name": "ipython",
    "version": 3
   },
   "file_extension": ".py",
   "mimetype": "text/x-python",
   "name": "python",
   "nbconvert_exporter": "python",
   "pygments_lexer": "ipython3",
   "version": "3.7.7"
  }
 },
 "nbformat": 4,
 "nbformat_minor": 4
}
