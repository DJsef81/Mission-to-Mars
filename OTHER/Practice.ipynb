{
 "cells": [
  {
   "cell_type": "code",
   "execution_count": 4,
   "metadata": {},
   "outputs": [],
   "source": [
    "# import the tools Splinter, BeautifulSoup, and ChromeDriverManager.\n",
    "\n",
    "from splinter import Browser\n",
    "from bs4 import BeautifulSoup as soup\n",
    "from webdriver_manager.chrome import ChromeDriverManager"
   ]
  },
  {
   "cell_type": "code",
   "execution_count": 6,
   "metadata": {},
   "outputs": [
    {
     "name": "stderr",
     "output_type": "stream",
     "text": [
      "[WDM] - Current google-chrome version is 87.0.4280\n",
      "[WDM] - Get LATEST driver version for 87.0.4280\n",
      "[WDM] - Driver [/Users/josefanolin/.wdm/drivers/chromedriver/mac64/87.0.4280.88/chromedriver] found in cache\n"
     ]
    },
    {
     "name": "stdout",
     "output_type": "stream",
     "text": [
      " \n"
     ]
    }
   ],
   "source": [
    "# Next, we'll set the executable path and initialize a browser.\n",
    "\n",
    "# We use the ChromeDriverManager().install() to install the ChromeDriver and set up the executable path:\n",
    "\n",
    "# Setup splinter\n",
    "executable_path = {'executable_path': ChromeDriverManager().install()}\n",
    "browser = Browser('chrome', **executable_path, headless=False)\n"
   ]
  },
  {
   "cell_type": "code",
   "execution_count": 9,
   "metadata": {},
   "outputs": [],
   "source": [
    "# Path to Chromedriver (Not mentioned in reading, but in example. Might be important later.)\n",
    "# !which chromedriver\n",
    "\n",
    "# RUnning this code ending up showing us \"chromedriver not found\" but the browser window still popped up. Guess its\n",
    "# just an outdated piece of code"
   ]
  },
  {
   "cell_type": "code",
   "execution_count": null,
   "metadata": {},
   "outputs": [],
   "source": [
    "# With these two lines of code, we are creating an instance of a Splinter browser. \n",
    "\n",
    "# This means that we're prepping our automated browser. \n",
    "\n",
    "# We're also specifying that we'll be using Chrome as our browser. \n",
    "\n",
    "# **executable_path is unpacking the dictionary we've stored the path in – think of it as unpacking a suitcase. \n",
    "\n",
    "# headless=False means that all of the browser's actions will be displayed in a Chrome window so we can see them.\n",
    "\n"
   ]
  },
  {
   "cell_type": "code",
   "execution_count": null,
   "metadata": {},
   "outputs": [],
   "source": [
    "# an empty webpage should automatically open, ready for instructions.\n",
    "# You'll know that it's an automated browser because it'll have a special message stating so, right under the tab\n",
    "\n",
    "# While the window can be closed at anytime, it's generally not a good idea to shut down the browser without ending \n",
    "# the session properly – there's an excellent chance your code will fail or an error will be generated. \n"
   ]
  },
  {
   "cell_type": "code",
   "execution_count": 10,
   "metadata": {},
   "outputs": [],
   "source": [
    "# Given a practice page to scrape. Check it out. \n"
   ]
  },
  {
   "cell_type": "code",
   "execution_count": null,
   "metadata": {},
   "outputs": [],
   "source": [
    "# Scrape the Top 10 Tags\n",
    "\n",
    "# Interacting with webpages is Splinter's specialty, and there are lots of things to interact with on this one, such \n",
    "# as the login button and tags. Our goal for this practice is to scrape the \"Top Ten tags\" text.\n",
    "\n"
   ]
  },
  {
   "cell_type": "code",
   "execution_count": null,
   "metadata": {},
   "outputs": [],
   "source": [
    "# use the DevTools to look at the details of this line. \n",
    "# Right-click the webpage and select \"Inspect.\" \n",
    "# From the DevTools window, we can actually select an element on the page instead of searching through the tags.\n",
    "\n",
    "# First, select the inspect icon (the one to the far left).\n",
    "\n",
    "# Then, click the element you want to select on the page, such as the humor tag. \n",
    "# This will direct your DevTools to the line of code the humor tag is nested in.\n",
    "\n",
    "# being able to select items directly from the webpage helps scale down time immensely. So with this shortcut, we've \n",
    "# been able to select the <h2 /> tag holding the text we want.\n",
    "\n",
    "# But what if there is more than one <h2 /> tag on the page? When scraping one particular item, we will often need \n",
    "# to be more specific in choosing the tag we're scraping from. \n",
    "# We can narrow this down even further by using the search function in our DevTools."
   ]
  },
  {
   "cell_type": "code",
   "execution_count": null,
   "metadata": {},
   "outputs": [],
   "source": [
    "# So we’re using DevTools to search through the HTML of the webpage. We know we want text that’s inside an <h2 /> tag.\n",
    "# What else could we do to get more specific?\n",
    "\n",
    "# While DevTools is active, press Command + F or CTRL + F to activate the search function, then search for the tags or\n",
    "# text you’re looking for.\n",
    "\n",
    "# The search function will identify the items you’re looking for within the HTML code of the page. \n",
    "# For example, searching for “h2” will return all <h2 /> tags on the page.\n"
   ]
  },
  {
   "cell_type": "code",
   "execution_count": null,
   "metadata": {},
   "outputs": [],
   "source": [
    "# Search for Elements\n",
    "\n",
    "# Searching within the HTML code is another useful way to quickly find items we're looking for. \n",
    "# Earlier, we were able to select a particular component from the page with the select tool. \n",
    "# But there are times where we need to know how many of a certain type of tag are in the page. \n",
    "# For example, the title we want to scrape is in an <h2 /> tag, but there are several others on the page as well. \n",
    "# Knowing this, we can expect to tailor our code to pull only the <h2 /> tag we want. \n",
    "\n",
    "\n",
    "# First, let's practice searching in the HTML.\n",
    "\n",
    "# With the DevTools still active, press Command + F if you use a Mac, or CTRL + F if you use a Windows computer. \n",
    "# This activates the search functionality, only instead of searching the webpage, we're searching the HTML of the \n",
    "# webpage. So if we search for all of the <h2 /> tags in the document, we'll know if we need to make our search more \n",
    "# specific by adding attributes such as a class name or an id.\n",
    "\n",
    "# In the search bar that we just activated, type h2 and then press Enter on your keyboard."
   ]
  },
  {
   "cell_type": "code",
   "execution_count": null,
   "metadata": {},
   "outputs": [],
   "source": [
    "# The result of our search immediately shows us two things: that the first tag we've searched for is highlighted, and \n",
    "# also the number of those tags in the document.\n",
    "\n",
    "# Because there is only \"1 of 1\" h2 tags in the document, we know that we can scrape for an <h2 /> without being more \n",
    "# specific. In most other cases, we'll need to include a class or id, so we'll practice that in a little bit.\n",
    "\n"
   ]
  },
  {
   "cell_type": "code",
   "execution_count": 11,
   "metadata": {},
   "outputs": [],
   "source": [
    "# Scrape the Title\n",
    "# Now let's scrape that title. In the next cell in Jupyter Notebook, type the following:\n",
    "# This code tells Splinter which site we want to visit by assigning the link to a URL.\n",
    "\n",
    "# Visit the Quotes to Scrape site\n",
    "url = 'http://quotes.toscrape.com/'\n",
    "browser.visit(url)"
   ]
  },
  {
   "cell_type": "code",
   "execution_count": 12,
   "metadata": {},
   "outputs": [],
   "source": [
    "# After executing the cell above, we will use BeautifulSoup to parse the HTML. \n",
    "# In the next cell, we'll add two more lines of code:\n",
    "\n",
    "# This code will parse all of the HTML on the page. That means that BeautifulSoup will take a look at the different \n",
    "# components and can now access them. Specifically, BeautifulSoup parses the HTML text and then stores it as an object.\n",
    "\n",
    "# In our code, we're using ‘html.parser’ to parse the information, but there are other options available as well.\n",
    "\n",
    "# Parse the HTML\n",
    "html = browser.html\n",
    "html_soup = soup(html, 'html.parser')"
   ]
  },
  {
   "cell_type": "code",
   "execution_count": 13,
   "metadata": {},
   "outputs": [
    {
     "data": {
      "text/plain": [
       "'Top Ten tags'"
      ]
     },
     "execution_count": 13,
     "metadata": {},
     "output_type": "execute_result"
    }
   ],
   "source": [
    "# In our next cell, we will find the title and extract it.\n",
    "\n",
    "# 1. We use our html_soup object we created earlier and chained find() to it to search for the <h2 /> tag.\n",
    "# 2. We've also extracted only the text within the HTML tags by adding .text to the end of the code.\n",
    "\n",
    "# Scrape the Title\n",
    "title = html_soup.find('h2').text\n",
    "title"
   ]
  },
  {
   "cell_type": "code",
   "execution_count": null,
   "metadata": {},
   "outputs": [],
   "source": [
    "# Scrape All of the Tags\n",
    "\n",
    "# Using our DevTools again, look at the code for the tags. We want all of the tags instead of just one, so we want to \n",
    "# first use our select tool to highlight the <div /> container that holds all of the tags.\n",
    "\n",
    "# Notice that the <div /> container holding all of the tags has two classes. \n",
    "\n",
    "# The col-md-4 class is a Bootstrap feature. Bootstrap is an HTML and CSS framework that simplifies adding functional \n",
    "# components that look nice by default. In this case, col-md-4 means that this webpage is using a grid layout, and \n",
    "# it's a common class that many webpages use. We'll dive into that more later.\n",
    "\n",
    "# The other class, tags-box, looks custom, though. Let's make sure first by searching for it using our search box."
   ]
  },
  {
   "cell_type": "code",
   "execution_count": 14,
   "metadata": {},
   "outputs": [],
   "source": [
    "# After searching for tags-box, we can see that only one result is returned. This means that it's unique in the HTML\n",
    "# and can be used to locate specific data. \n",
    "\n",
    "#Next, expand the tags-box div to take a look at the contents.\n",
    "\n",
    "# From here, we can see a list of <span /> elements, each with a class of tag-item.\n",
    "# Open some of the <span /> elements to see what they contain; if you see <a /> elements with the names in the list \n",
    "# that we're targeting, then we're in the right place.\n",
    "\n",
    "# Since there are 10 items in the list displayed in the browser, let's use the dev tools' search function to verify \n",
    "# the list item count. \n",
    "\n",
    "# Search for tag-item and note the number of returned results. If there are 10, then we're ready to go."
   ]
  },
  {
   "cell_type": "code",
   "execution_count": null,
   "metadata": {},
   "outputs": [],
   "source": [
    "# Let's scrape each tag-item\n",
    "\n",
    "# This code will look really similar to our last, but we've increased the difficulty a bit by incorporating a for loop,\n",
    "# but let's start at the beginning.\n",
    "\n",
    "# 1. The first line, tag_box = html_soup.find('div', class_='tags-box'), creates a new variable tag_box, which will \n",
    "# be used to store the results of a search. \n",
    "# In this case, we're looking for <div /> elements with a class of tags-box, and we're searching for it in the HTML we\n",
    "# parsed earlier and stored in the html_soup variable.\n",
    "\n",
    "# 2. The second line, tags = tag_box.find_all('a', class_='tag'), is similar to the first but with a few tweaks to \n",
    "# make the search more specific. \n",
    "# The new \"tags\" variable will hold the results of a find_all, but this time we're searching through the parsed \n",
    "# results stored in our tag_box variable to find <a /> elements with a tag class.\n",
    "\n",
    "# We used find_all this time because we want to capture all results, instead of a single or specific one.\n",
    "\n",
    "# Next, we've added a for loop. This for loop cycles through each tag in the tags variable, strips the HTML code out \n",
    "# of it, and then prints only the text of each tag.\n",
    "\n"
   ]
  },
  {
   "cell_type": "code",
   "execution_count": 15,
   "metadata": {},
   "outputs": [
    {
     "name": "stdout",
     "output_type": "stream",
     "text": [
      "love\n",
      "inspirational\n",
      "life\n",
      "humor\n",
      "books\n",
      "reading\n",
      "friendship\n",
      "friends\n",
      "truth\n",
      "simile\n"
     ]
    }
   ],
   "source": [
    "# Scrape the top ten tags\n",
    "tag_box = html_soup.find('div', class_='tags-box')\n",
    "# tag_box\n",
    "tags = tag_box.find_all('a', class_='tag')\n",
    "\n",
    "for tag in tags:\n",
    "    word = tag.text\n",
    "    print(word)"
   ]
  },
  {
   "cell_type": "code",
   "execution_count": null,
   "metadata": {},
   "outputs": [],
   "source": [
    "# Scrape Across Pages\n",
    "\n",
    "# Now that we've practiced scraping items from a single page, we're going to up the ante by scraping items that span \n",
    "# multiple pages. Our next section of code will scrape the quotes on the first page, click the \"Next\" button, then \n",
    "# scrape more quotes and so on (five pages worth of quotes).\n",
    "\n"
   ]
  },
  {
   "cell_type": "code",
   "execution_count": 17,
   "metadata": {},
   "outputs": [],
   "source": [
    "# Our next code two lines do two things: \n",
    "# They assign an actual URL to the variable named \"url\" and then tell Splinter to visit that webpage. \n",
    "# Go ahead and execute this cell. This will cause the automated browser to navigate there.\n",
    "\n",
    "url = 'http://quotes.toscrape.com/'\n",
    "browser.visit(url)"
   ]
  },
  {
   "cell_type": "code",
   "execution_count": 18,
   "metadata": {},
   "outputs": [
    {
     "name": "stdout",
     "output_type": "stream",
     "text": [
      "page: 1 ----------\n",
      "“The world as we have created it is a process of our thinking. It cannot be changed without changing our thinking.”\n",
      "page: 1 ----------\n",
      "“It is our choices, Harry, that show what we truly are, far more than our abilities.”\n",
      "page: 1 ----------\n",
      "“There are only two ways to live your life. One is as though nothing is a miracle. The other is as though everything is a miracle.”\n",
      "page: 1 ----------\n",
      "“The person, be it gentleman or lady, who has not pleasure in a good novel, must be intolerably stupid.”\n",
      "page: 1 ----------\n",
      "“Imperfection is beauty, madness is genius and it's better to be absolutely ridiculous than absolutely boring.”\n",
      "page: 1 ----------\n",
      "“Try not to become a man of success. Rather become a man of value.”\n",
      "page: 1 ----------\n",
      "“It is better to be hated for what you are than to be loved for what you are not.”\n",
      "page: 1 ----------\n",
      "“I have not failed. I've just found 10,000 ways that won't work.”\n",
      "page: 1 ----------\n",
      "“A woman is like a tea bag; you never know how strong it is until it's in hot water.”\n",
      "page: 1 ----------\n",
      "“A day without sunshine is like, you know, night.”\n",
      "page: 2 ----------\n",
      "“The world as we have created it is a process of our thinking. It cannot be changed without changing our thinking.”\n",
      "page: 2 ----------\n",
      "“It is our choices, Harry, that show what we truly are, far more than our abilities.”\n",
      "page: 2 ----------\n",
      "“There are only two ways to live your life. One is as though nothing is a miracle. The other is as though everything is a miracle.”\n",
      "page: 2 ----------\n",
      "“The person, be it gentleman or lady, who has not pleasure in a good novel, must be intolerably stupid.”\n",
      "page: 2 ----------\n",
      "“Imperfection is beauty, madness is genius and it's better to be absolutely ridiculous than absolutely boring.”\n",
      "page: 2 ----------\n",
      "“Try not to become a man of success. Rather become a man of value.”\n",
      "page: 2 ----------\n",
      "“It is better to be hated for what you are than to be loved for what you are not.”\n",
      "page: 2 ----------\n",
      "“I have not failed. I've just found 10,000 ways that won't work.”\n",
      "page: 2 ----------\n",
      "“A woman is like a tea bag; you never know how strong it is until it's in hot water.”\n",
      "page: 2 ----------\n",
      "“A day without sunshine is like, you know, night.”\n",
      "page: 3 ----------\n",
      "“The world as we have created it is a process of our thinking. It cannot be changed without changing our thinking.”\n",
      "page: 3 ----------\n",
      "“It is our choices, Harry, that show what we truly are, far more than our abilities.”\n",
      "page: 3 ----------\n",
      "“There are only two ways to live your life. One is as though nothing is a miracle. The other is as though everything is a miracle.”\n",
      "page: 3 ----------\n",
      "“The person, be it gentleman or lady, who has not pleasure in a good novel, must be intolerably stupid.”\n",
      "page: 3 ----------\n",
      "“Imperfection is beauty, madness is genius and it's better to be absolutely ridiculous than absolutely boring.”\n",
      "page: 3 ----------\n",
      "“Try not to become a man of success. Rather become a man of value.”\n",
      "page: 3 ----------\n",
      "“It is better to be hated for what you are than to be loved for what you are not.”\n",
      "page: 3 ----------\n",
      "“I have not failed. I've just found 10,000 ways that won't work.”\n",
      "page: 3 ----------\n",
      "“A woman is like a tea bag; you never know how strong it is until it's in hot water.”\n",
      "page: 3 ----------\n",
      "“A day without sunshine is like, you know, night.”\n",
      "page: 4 ----------\n",
      "“The world as we have created it is a process of our thinking. It cannot be changed without changing our thinking.”\n",
      "page: 4 ----------\n",
      "“It is our choices, Harry, that show what we truly are, far more than our abilities.”\n",
      "page: 4 ----------\n",
      "“There are only two ways to live your life. One is as though nothing is a miracle. The other is as though everything is a miracle.”\n",
      "page: 4 ----------\n",
      "“The person, be it gentleman or lady, who has not pleasure in a good novel, must be intolerably stupid.”\n",
      "page: 4 ----------\n",
      "“Imperfection is beauty, madness is genius and it's better to be absolutely ridiculous than absolutely boring.”\n",
      "page: 4 ----------\n",
      "“Try not to become a man of success. Rather become a man of value.”\n",
      "page: 4 ----------\n",
      "“It is better to be hated for what you are than to be loved for what you are not.”\n",
      "page: 4 ----------\n",
      "“I have not failed. I've just found 10,000 ways that won't work.”\n",
      "page: 4 ----------\n",
      "“A woman is like a tea bag; you never know how strong it is until it's in hot water.”\n",
      "page: 4 ----------\n",
      "“A day without sunshine is like, you know, night.”\n",
      "page: 5 ----------\n",
      "“The world as we have created it is a process of our thinking. It cannot be changed without changing our thinking.”\n",
      "page: 5 ----------\n",
      "“It is our choices, Harry, that show what we truly are, far more than our abilities.”\n",
      "page: 5 ----------\n",
      "“There are only two ways to live your life. One is as though nothing is a miracle. The other is as though everything is a miracle.”\n",
      "page: 5 ----------\n",
      "“The person, be it gentleman or lady, who has not pleasure in a good novel, must be intolerably stupid.”\n",
      "page: 5 ----------\n",
      "“Imperfection is beauty, madness is genius and it's better to be absolutely ridiculous than absolutely boring.”\n",
      "page: 5 ----------\n",
      "“Try not to become a man of success. Rather become a man of value.”\n",
      "page: 5 ----------\n",
      "“It is better to be hated for what you are than to be loved for what you are not.”\n",
      "page: 5 ----------\n",
      "“I have not failed. I've just found 10,000 ways that won't work.”\n",
      "page: 5 ----------\n",
      "“A woman is like a tea bag; you never know how strong it is until it's in hot water.”\n",
      "page: 5 ----------\n",
      "“A day without sunshine is like, you know, night.”\n"
     ]
    }
   ],
   "source": [
    "# In the next cell, we'll create a for loop to collect each quote, \"click\" the next button, then collect the next set \n",
    "# of quotes. We'll use range(1, 6) in our for loop to visit the first five pages of the website.\n",
    "\n",
    "for x in range(1, 6):\n",
    "   html = browser.html\n",
    "   quote_soup = soup (html, 'html.parser')\n",
    "   quotes = quote_soup.find_all('span', class_='text')\n",
    "   for quote in quotes:\n",
    "      print('page:', x, '----------')\n",
    "      print(quote.text)\n",
    "   browser.links.find_by_partial_text('Next')"
   ]
  },
  {
   "cell_type": "code",
   "execution_count": null,
   "metadata": {},
   "outputs": [],
   "source": [
    "# It's important to note that there are many ways that BeautifulSoup can search for text, but the syntax is typically \n",
    "# the same: we look for a tag first, then an attribute. \n",
    "\n",
    "# We can search for items using only a tag, such as a <span /> or <h1 />, but a class or id attribute makes the search\n",
    "# that much more specific.\n",
    "\n",
    "# By including an attribute, we have a far better chance of scraping the data we want."
   ]
  },
  {
   "cell_type": "code",
   "execution_count": null,
   "metadata": {},
   "outputs": [],
   "source": [
    "# To create a new div element that acts as a container and has an id of “box”, which of these options is would you use?\n",
    "# <div class=”container” id=”box”></div>"
   ]
  },
  {
   "cell_type": "code",
   "execution_count": null,
   "metadata": {},
   "outputs": [],
   "source": [
    "# What would happen we ran soup.find_all('div', class_='quote') instead of soup.find_all('span', class='text')?\n",
    "\n",
    "# We would scrape the parent element and grab everything instead of just the quotes.\n"
   ]
  },
  {
   "cell_type": "code",
   "execution_count": 20,
   "metadata": {},
   "outputs": [],
   "source": [
    "# Finally, we can close out the browser by running \n",
    "browser.quit()\n",
    "\n"
   ]
  },
  {
   "cell_type": "code",
   "execution_count": null,
   "metadata": {},
   "outputs": [],
   "source": []
  }
 ],
 "metadata": {
  "kernelspec": {
   "display_name": "PythonData",
   "language": "python",
   "name": "pythondata"
  },
  "language_info": {
   "codemirror_mode": {
    "name": "ipython",
    "version": 3
   },
   "file_extension": ".py",
   "mimetype": "text/x-python",
   "name": "python",
   "nbconvert_exporter": "python",
   "pygments_lexer": "ipython3",
   "version": "3.7.7"
  }
 },
 "nbformat": 4,
 "nbformat_minor": 4
}
